{
 "cells": [
  {
   "cell_type": "code",
   "execution_count": 27,
   "metadata": {
    "collapsed": true
   },
   "outputs": [],
   "source": [
    "import random \n",
    "import os\n",
    "import shutil"
   ]
  },
  {
   "cell_type": "code",
   "execution_count": 33,
   "metadata": {},
   "outputs": [
    {
     "name": "stdout",
     "output_type": "stream",
     "text": [
      "number of samples:  740\n"
     ]
    }
   ],
   "source": [
    "data_dir = \"robag_data\"\n",
    "filename='filename_list.txt' # file names are in it \n",
    "val_percent = 0.2 # percentage of validation set \n",
    "random.seed(1789) # random seed\n",
    "\n",
    "# read all the file names  and randomize \n",
    "filename_trainval = open(filename,'r').read().split('\\n')\n",
    "random.shuffle(filename_trainval) # randomize \n",
    "n_samples = len(filename_trainval) \n",
    "print(\"number of samples: \", n_samples)"
   ]
  },
  {
   "cell_type": "code",
   "execution_count": 29,
   "metadata": {},
   "outputs": [
    {
     "name": "stdout",
     "output_type": "stream",
     "text": [
      "number of samples:  740\n"
     ]
    }
   ],
   "source": [
    "filename_val = random.sample(filename_trainval, int(val_percent*n_samples))"
   ]
  },
  {
   "cell_type": "code",
   "execution_count": 30,
   "metadata": {},
   "outputs": [],
   "source": [
    "# create list of file names for  validation set\n",
    "filename_val = random.sample(filename_trainval, int(val_percent*n_samples))\n",
    "# create list of file names for training set \n",
    "filename_train= [f for f in filename_trainval if f not in filename_val]"
   ]
  },
  {
   "cell_type": "code",
   "execution_count": null,
   "metadata": {},
   "outputs": [],
   "source": [
    "val_dir = data_dir+\"_val\"\n",
    "    os.makedirs(val_dir)\n",
    "    for f in filename_val:\n",
    "        copyfile(\"\", dst)\n",
    "    "
   ]
  },
  {
   "cell_type": "code",
   "execution_count": null,
   "metadata": {
    "collapsed": true
   },
   "outputs": [],
   "source": []
  }
 ],
 "metadata": {
  "kernelspec": {
   "display_name": "Python 3",
   "language": "python",
   "name": "python3"
  },
  "language_info": {
   "codemirror_mode": {
    "name": "ipython",
    "version": 3
   },
   "file_extension": ".py",
   "mimetype": "text/x-python",
   "name": "python",
   "nbconvert_exporter": "python",
   "pygments_lexer": "ipython3",
   "version": "3.6.1"
  }
 },
 "nbformat": 4,
 "nbformat_minor": 2
}
